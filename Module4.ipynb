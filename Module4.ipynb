{
 "cells": [
  {
   "cell_type": "markdown",
   "metadata": {},
   "source": [
    "## Ejercicio 1"
   ]
  },
  {
   "cell_type": "code",
   "execution_count": 186,
   "metadata": {},
   "outputs": [],
   "source": [
    "text = \"\"\"Interesting facts about the Moon. The Moon is Earth's only satellite. There are several interesting facts about the Moon and how it affects life here on Earth. \n",
    "On average, the Moon moves 4cm away from the Earth every year. This yearly drift is not significant enough to cause immediate effects on Earth. The highest daylight temperature of the Moon is 127 C.\"\"\""
   ]
  },
  {
   "cell_type": "markdown",
   "metadata": {},
   "source": [
    "Dividir el texto"
   ]
  },
  {
   "cell_type": "code",
   "execution_count": 187,
   "metadata": {},
   "outputs": [],
   "source": [
    "ts= text.split(\". \")"
   ]
  },
  {
   "cell_type": "markdown",
   "metadata": {},
   "source": [
    "Define algunas palabras clave para búsqueda que te ayudarán a determinar si una oración contiene un hecho."
   ]
  },
  {
   "cell_type": "code",
   "execution_count": 188,
   "metadata": {},
   "outputs": [],
   "source": [
    "palabras= ['average','temperature','distance']"
   ]
  },
  {
   "cell_type": "markdown",
   "metadata": {},
   "source": [
    "\n",
    "Cree un bucle para imprimir solo datos sobre la Luna que estén relacionados con las palabras clave definidas anteriormente:"
   ]
  },
  {
   "cell_type": "code",
   "execution_count": 189,
   "metadata": {},
   "outputs": [
    {
     "name": "stdout",
     "output_type": "stream",
     "text": [
      "\n",
      "On average, the Moon moves 4cm away from the Earth every year\n",
      "The highest daylight temperature of the Moon is 127 C.\n"
     ]
    }
   ],
   "source": [
    "for ffact in ts:\n",
    "    for palabra in palabras:\n",
    "        if palabra in ffact:\n",
    "            print(ffact)\n",
    "            ##Para cambiar a celcius.\n",
    "            if ffact.split == \"Celcius\":\n",
    "                print (ffact.replace('C', 'Celcius'))\n",
    "\n",
    "\n",
    "\n"
   ]
  },
  {
   "cell_type": "markdown",
   "metadata": {},
   "source": [
    "## Ejercicio 2"
   ]
  },
  {
   "cell_type": "code",
   "execution_count": 190,
   "metadata": {},
   "outputs": [
    {
     "name": "stdout",
     "output_type": "stream",
     "text": [
      ".~..~..~..~..~..~..~..~..~..~..~..~..~..~..~..~..~..~..~..~..~..~..~..~..~..~..~..~..~..~.\n",
      "\tGravity Facts About Moon\n",
      ".~..~..~..~..~..~..~..~..~..~..~..~..~..~..~..~..~..~..~..~..~..~..~..~..~..~..~..~..~..~.\n",
      "Nombre del planeta: Earth\n",
      "Gravedad en Moon: 1.6199999999999999 ms/2\n",
      "------------------------------------------------------------------------------------------\n",
      "------------------------------------------------------------------------------------------\n",
      "\tGravity Facts About Ganímedes .~..~..~..~..~..~..~..~..~..~..~..~..~..~..~..~..~..~..~..~..~..~..~..~..~..~..~..~..~..~.\n",
      "Nombre del planeta: Marte \n",
      "Gravedad en Ganímedes: 1.6199999999999999 ms/2\n",
      "------------------------------------------------------------------------------------------\n"
     ]
    }
   ],
   "source": [
    "# Datos con los que vas a trabajar\n",
    "nombre = \"Moon\"\n",
    "gravity = 0.00162 # in kms\n",
    "pName = \"Earth\"\n",
    "\n",
    "#Titulo\n",
    "titulo= f\"{'.~.'*30}\\n\\tGravity facts about {nombre}\".title()\n",
    "\n",
    "#Plantilla\n",
    "facts= f\"\"\"{'.~.'*30}\n",
    "Nombre del planeta: {pName}\n",
    "Gravedad en {nombre}: {gravity*1000} ms/2\n",
    "{'---'*30}\"\"\"\n",
    "\n",
    "#Unir ambas cadenas:\n",
    "union= f\"\"\"{titulo}\n",
    "{facts}\"\"\"\n",
    "\n",
    "print (union)\n",
    "\n",
    "#Nuevas muestras:\n",
    "p1Name = 'Marte '\n",
    "gr  = 0.00143\n",
    "name = 'Ganímedes'\n",
    "#Comprobar plantilla:\n",
    "title2=titulo= f\"{'---'*30}\\n\\tGravity facts about {name} \".title()\n",
    "factsN2= f\"\"\"{'.~.'*30}\n",
    "Nombre del planeta: {p1Name}\n",
    "Gravedad en {name}: {gravity*1000} ms/2\n",
    "{'---'*30}\"\"\"\n",
    "\n",
    "print(title2 + factsN2)\n",
    "\n",
    "\n",
    "\n"
   ]
  }
 ],
 "metadata": {
  "interpreter": {
   "hash": "4d5137cc8f713aa158e3f54ec4ac270606d0d75f20aa788b5e2009e852428de5"
  },
  "kernelspec": {
   "display_name": "Python 3.7.7 ('base')",
   "language": "python",
   "name": "python3"
  },
  "language_info": {
   "codemirror_mode": {
    "name": "ipython",
    "version": 3
   },
   "file_extension": ".py",
   "mimetype": "text/x-python",
   "name": "python",
   "nbconvert_exporter": "python",
   "pygments_lexer": "ipython3",
   "version": "3.9.10"
  },
  "orig_nbformat": 4
 },
 "nbformat": 4,
 "nbformat_minor": 2
}
