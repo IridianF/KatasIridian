{
 "cells": [
  {
   "cell_type": "markdown",
   "metadata": {},
   "source": [
    "## Ejercicio1"
   ]
  },
  {
   "cell_type": "code",
   "execution_count": 5,
   "metadata": {},
   "outputs": [
    {
     "name": "stdout",
     "output_type": "stream",
     "text": [
      "Marte tiene 2 Lunas\n",
      "Marte tiene una circunferencia polar de: 6752\n"
     ]
    }
   ],
   "source": [
    "#Crea un diccionario:\n",
    "planet = {\n",
    "    'name': 'Marte',\n",
    "    'nMoons': 2\n",
    "}\n",
    "\n",
    "print(f'{planet[\"name\"]} tiene {planet[\"nMoons\"]} Lunas')\n",
    "\n",
    "planet['circumference (km)'] = {\n",
    "    'polar': 6752,\n",
    "    'equatorial': 6792\n",
    "}\n",
    "\n",
    "print(f'{planet[\"name\"]} tiene una circunferencia polar de: {planet[\"circumference (km)\"][\"polar\"]}')"
   ]
  },
  {
   "cell_type": "markdown",
   "metadata": {},
   "source": [
    "## Ejercicio2"
   ]
  },
  {
   "cell_type": "code",
   "execution_count": 6,
   "metadata": {},
   "outputs": [
    {
     "name": "stdout",
     "output_type": "stream",
     "text": [
      "17.833333333333332\n"
     ]
    }
   ],
   "source": [
    "# Añade el código para determinar el número de lunas.\n",
    "planets = {\n",
    "    'name': ['Mercurio','Venus','Tierra','Marte','Jupiter','Saturno','Urano','Neptuno'],\n",
    "    'nMoons': [0,0,1,2,79,82,27,14,5,2,1,1]\n",
    "}\n",
    "nLunas = []\n",
    "c=0\n",
    "for i, j in planets.items():\n",
    "    c= c+1\n",
    "    if c==2:\n",
    "        nLunas= j\n",
    "\n",
    "sum=0 \n",
    "for lunas in nLunas:\n",
    "    sum += lunas\n",
    "average= sum/len(nLunas)\n",
    "print(average)\n",
    "\n"
   ]
  }
 ],
 "metadata": {
  "interpreter": {
   "hash": "4d5137cc8f713aa158e3f54ec4ac270606d0d75f20aa788b5e2009e852428de5"
  },
  "kernelspec": {
   "display_name": "Python 3.7.7 ('base')",
   "language": "python",
   "name": "python3"
  },
  "language_info": {
   "codemirror_mode": {
    "name": "ipython",
    "version": 3
   },
   "file_extension": ".py",
   "mimetype": "text/x-python",
   "name": "python",
   "nbconvert_exporter": "python",
   "pygments_lexer": "ipython3",
   "version": "3.9.10"
  },
  "orig_nbformat": 4
 },
 "nbformat": 4,
 "nbformat_minor": 2
}
