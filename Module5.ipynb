{
 "cells": [
  {
   "cell_type": "markdown",
   "metadata": {},
   "source": [
    "## Ejercicio 1"
   ]
  },
  {
   "cell_type": "code",
   "execution_count": 4,
   "metadata": {},
   "outputs": [
    {
     "name": "stdout",
     "output_type": "stream",
     "text": [
      "D in miles:  628949330\n",
      "D en km:  390577533.93\n"
     ]
    }
   ],
   "source": [
    "d1= 149597870\n",
    "d2= 778547200\n",
    "\n",
    "#Calcular distancia\n",
    "distance= abs(d2-d1)\n",
    "print(\"D in miles: \",distance)\n",
    "\n",
    "dkm=distance*0.621\n",
    "print(\"D en km: \", dkm)"
   ]
  },
  {
   "cell_type": "markdown",
   "metadata": {},
   "source": [
    "## Ejercicio 2"
   ]
  },
  {
   "cell_type": "code",
   "execution_count": 5,
   "metadata": {},
   "outputs": [],
   "source": [
    "d1= int(input(\"Ingrese distancia de primer planeta\"))\n",
    "d2= int(input(\"Ingrese distancia de segundo planeta\"))\n",
    "\n",
    "#Calcular distancia\n",
    "distance= abs(d2-d1)\n",
    "print(\"D in miles: \",distance)\n",
    "\n",
    "dkm=distance*0.621\n",
    "print(\"D en km: \", dkm)\n"
   ]
  }
 ],
 "metadata": {
  "interpreter": {
   "hash": "4d5137cc8f713aa158e3f54ec4ac270606d0d75f20aa788b5e2009e852428de5"
  },
  "kernelspec": {
   "display_name": "Python 3.7.7 ('base')",
   "language": "python",
   "name": "python3"
  },
  "language_info": {
   "codemirror_mode": {
    "name": "ipython",
    "version": 3
   },
   "file_extension": ".py",
   "mimetype": "text/x-python",
   "name": "python",
   "nbconvert_exporter": "python",
   "pygments_lexer": "ipython3",
   "version": "3.9.10"
  },
  "orig_nbformat": 4
 },
 "nbformat": 4,
 "nbformat_minor": 2
}
